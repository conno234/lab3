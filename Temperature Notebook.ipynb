{
 "cells": [
  {
   "cell_type": "code",
   "execution_count": 6,
   "metadata": {},
   "outputs": [],
   "source": [
    "import arcpy\n",
    "import pandas as pd\n",
    "import psycopg2\n",
    "import requests\n",
    "from shapely.wkb import loads as wkb_loads\n",
    "import requests\n",
    "import csv\n",
    "from arcpy import env\n",
    "import os\n",
    "import numpy as np\n",
    "import io\n",
    "import json\n",
    "from io import StringIO\n",
    "import pandas as pd\n",
    "from datetime import datetime, timedelta\n",
    "from tqdm import tqdm\n",
    "import zipfile\n",
    "from osgeo import gdal\n",
    "import geopandas\n",
    "import pyproj\n",
    "import random\n",
    "from sqlalchemy import create_engine"
   ]
  },
  {
   "cell_type": "markdown",
   "metadata": {},
   "source": [
    "Note: Portions of this notebook were developed using AI generated code."
   ]
  },
  {
   "cell_type": "markdown",
   "metadata": {},
   "source": [
    "### Interpolation"
   ]
  },
  {
   "cell_type": "code",
   "execution_count": 66,
   "metadata": {},
   "outputs": [],
   "source": [
    "# This connects to the previous lab's database\n",
    "db_params = {\n",
    "    'database': 'lab1.2',  \n",
    "    'user': '(USER)',  \n",
    "    'password': '(PASSWORD), \n",
    "    'host': '(HOST)',  \n",
    "    'port': '5432' \n",
    "}\n",
    "conn = psycopg2.connect(**db_params)\n",
    "cursor = conn.cursor()\n",
    "\n",
    "# We then query the desired temperature data (including converting the geometry column to WKT)\n",
    "sql_query = \"SELECT station_id, air_temper, wkt_geom FROM minn_temp_wkt\"\n",
    "cursor.execute(sql_query)\n",
    "data = cursor.fetchall()\n",
    "\n",
    "# Then we convert the fetched data to a DataFrame\n",
    "df = pd.DataFrame(data, columns=['station_id', 'air_temper', 'wkt_geom'])\n",
    "\n",
    "conn.close()\n"
   ]
  },
  {
   "cell_type": "code",
   "execution_count": null,
   "metadata": {},
   "outputs": [],
   "source": [
    "# We can also go ahead and define the connection properties for our output PostGIS database\n",
    "connection_properties = {\n",
    "    'database': 'lab3',\n",
    "    'user': '(USER)',  \n",
    "    'password': '(PASSWORD), \n",
    "    'host': '(HOST)',\n",
    "    'port': '5432'\n",
    "}\n",
    "\n",
    "# Create a new database connection file\n",
    "db_connection_file = r\"C:\\Users\\conno\\OneDrive\\Documents\\ArcGIS\\Projects\\Lab 3 v2\\PostgreSQL-34-lab3(postgres).sde\"\n",
    "arcpy.CreateDatabaseConnection_management(out_folder_path=r\"C:\\Users\\conno\\OneDrive\\Documents\\ArcGIS\\Projects\\Lab 3 v2\",\n",
    "                                          out_name=\"database_connection\",\n",
    "                                          database_platform=\"POSTGRESQL\",\n",
    "                                          instance=connection_properties['host'],\n",
    "                                          account_authentication=\"DATABASE_AUTH\",\n",
    "                                          username=connection_properties['user'],\n",
    "                                          password=connection_properties['password'],\n",
    "                                          save_user_pass=\"SAVE_USERNAME\",\n",
    "                                          database=connection_properties['database'],\n",
    "                                          version_type=\"TRANSACTIONAL\",\n",
    "                                          version=\"dbo.DEFAULT\"\n",
    "                                          )\n"
   ]
  },
  {
   "cell_type": "code",
   "execution_count": 67,
   "metadata": {},
   "outputs": [],
   "source": [
    "# We can establish a  workspace for feature class output\n",
    "arcpy.env.workspace = r\"C:\\Users\\conno\\OneDrive\\Documents\\ArcGIS\\Projects\\Lab 3 v2\\Lab 3 v2.gdb\"\n"
   ]
  },
  {
   "cell_type": "code",
   "execution_count": 68,
   "metadata": {},
   "outputs": [],
   "source": [
    "# We then assign a variable to the output feature class\n",
    "output_fc = \"Temperature_Data\"\n",
    "\n",
    "# We also assign the spatial reference\n",
    "spatial_reference = arcpy.SpatialReference(4326)\n",
    "\n",
    "# Next is to create the output feature class that will show off our temperature data\n",
    "arcpy.management.CreateFeatureclass(arcpy.env.workspace, output_fc, \"POINT\", spatial_reference=spatial_reference)\n",
    "\n",
    "# Then we add fields to the feature class for station ID and air temperature records\n",
    "arcpy.management.AddField(output_fc, \"station_id\", \"TEXT\")\n",
    "arcpy.management.AddField(output_fc, \"air_temper\", \"FLOAT\")\n",
    "\n",
    "# Then we iterate over each row in the DataFrame to grab our needed info\n",
    "with arcpy.da.InsertCursor(output_fc, [\"SHAPE@\", \"station_id\", \"air_temper\"]) as cursor:\n",
    "    for index, row in df.iterrows():\n",
    "        station_id = row['station_id']\n",
    "        air_temper = row['air_temper']\n",
    "        wkt_geom = row['wkt_geom']\n",
    "        \n",
    "        # Then use that info to construct points\n",
    "        point = arcpy.Point()\n",
    "        point.X, point.Y = map(float, wkt_geom[7:-1].split())\n",
    "        geom = arcpy.PointGeometry(point, spatial_reference)\n",
    "        \n",
    "        # Then insert that point info into the feature class\n",
    "        cursor.insertRow((geom, station_id, air_temper))\n"
   ]
  },
  {
   "cell_type": "code",
   "execution_count": 69,
   "metadata": {
    "scrolled": true
   },
   "outputs": [
    {
     "name": "stdout",
     "output_type": "stream",
     "text": [
      "Randomly selected 16 features and created a new feature layer: Random_Selected_Features\n",
      "Saved the selected features to a new feature class: Random_Selected_Features_Class\n"
     ]
    }
   ],
   "source": [
    "# In order to test our interpolations later, we will need to create a subset of this data and remove it from the feature layer\n",
    "input_feature_layer = \"Temperature_Data\"\n",
    "\n",
    "# We will save it as a separate feature layer\n",
    "output_feature_layer = \"Random_Selected_Features\"\n",
    "output_feature_class = \"Random_Selected_Features_Class\"\n",
    "\n",
    "# We first need to get the total count of features in the input feature layer\n",
    "total_features_count = int(arcpy.GetCount_management(input_feature_layer).getOutput(0))\n",
    "\n",
    "# The I will generate a list of 16 random indices\n",
    "random_indices = random.sample(range(1, total_features_count + 1), 16)\n",
    "\n",
    "# I will use a SQL expression to select the randomly chosen features\n",
    "sql_expression = \"OBJECTID IN ({})\".format(','.join(map(str, random_indices)))\n",
    "\n",
    "# Then I will create a new feature layer with the randomly selected features\n",
    "arcpy.MakeFeatureLayer_management(input_feature_layer, output_feature_layer, sql_expression)\n",
    "\n",
    "print(\"Randomly selected 16 features and created a new feature layer:\", output_feature_layer)\n",
    "\n",
    "# The I will save the selected features to a new feature class\n",
    "arcpy.CopyFeatures_management(output_feature_layer, output_feature_class)\n",
    "print(\"Saved the selected features to a new feature class:\", output_feature_class)\n"
   ]
  },
  {
   "cell_type": "code",
   "execution_count": 5,
   "metadata": {},
   "outputs": [],
   "source": [
    "# The next step is perform our interpolations\n",
    "# We will start with inverse distance weighting\n",
    "with arcpy.EnvManager(scratchWorkspace=r\"C:\\Users\\conno\\OneDrive\\Documents\\ArcGIS\\Projects\\Lab 3 v2\\Lab 3 v2.gdb\"):\n",
    "    Idw_Temper = arcpy.sa.Idw(\n",
    "        in_point_features=\"Temperature_Data\",\n",
    "        z_field=\"air_temper\",\n",
    "        cell_size=0.0218500799999999,\n",
    "        power=2,\n",
    "        search_radius=\"VARIABLE 12\",\n",
    "        in_barrier_polyline_features=None\n",
    "    )\n",
    "    Idw_Temper.save(r\"C:\\Users\\conno\\OneDrive\\Documents\\ArcGIS\\Projects\\Lab 3 v2\\Lab 3 v2.gdb\\Idw_Temper\")"
   ]
  },
  {
   "cell_type": "code",
   "execution_count": 6,
   "metadata": {},
   "outputs": [],
   "source": [
    "# Then kriging\n",
    "with arcpy.EnvManager(scratchWorkspace=r\"C:\\Users\\conno\\OneDrive\\Documents\\ArcGIS\\Projects\\Lab 3 v2\\Lab 3 v2.gdb\"):\n",
    "    Kriging_Temper = arcpy.sa.Kriging(\n",
    "        in_point_features=\"Temperature_Data\",\n",
    "        z_field=\"air_temper\",\n",
    "        kriging_model=\"Spherical 0.021850 # # #\",\n",
    "        cell_size=0.0218500799999999,\n",
    "        search_radius=\"VARIABLE 12\",\n",
    "        out_variance_prediction_raster=None\n",
    "    )\n",
    "    Kriging_Temper.save(r\"C:\\Users\\conno\\OneDrive\\Documents\\ArcGIS\\Projects\\Lab 3 v2\\Lab 3 v2.gdb\\Kriging_Temper\")"
   ]
  },
  {
   "cell_type": "code",
   "execution_count": 7,
   "metadata": {},
   "outputs": [],
   "source": [
    "# And finally splining\n",
    "with arcpy.EnvManager(scratchWorkspace=r\"C:\\Users\\conno\\OneDrive\\Documents\\ArcGIS\\Projects\\Lab 3 v2\\Lab 3 v2.gdb\"):\n",
    "    Spline_Temper = arcpy.sa.Spline(\n",
    "        in_point_features=\"Temperature_Data\",\n",
    "        z_field=\"air_temper\",\n",
    "        cell_size=0.0218500799999999,\n",
    "        spline_type=\"REGULARIZED\",\n",
    "        weight=0.1,\n",
    "        number_points=12\n",
    "    )\n",
    "    Spline_Temper.save(r\"C:\\Users\\conno\\OneDrive\\Documents\\ArcGIS\\Projects\\Lab 3 v2\\Lab 3 v2.gdb\\Spline_Temper\")"
   ]
  },
  {
   "cell_type": "code",
   "execution_count": 1,
   "metadata": {},
   "outputs": [
    {
     "name": "stdout",
     "output_type": "stream",
     "text": [
      "Resampling complete\n"
     ]
    }
   ],
   "source": [
    "#The interpolations need to be saved in our PostGIS database. As they are rasters, I will first resample them to cut down on file size\n",
    "\n",
    "arcpy.management.Resample(\n",
    "    in_raster=\"Idw_Temper\",\n",
    "    out_raster=r\"C:\\Users\\conno\\OneDrive\\Documents\\ArcGIS\\Projects\\Lab 3 v2\\Lab 3 v2.gdb\\Idw_Temper_Resample\",\n",
    "    cell_size=\"0.1 0.1\",\n",
    "    resampling_type=\"NEAREST\"\n",
    ")\n",
    "arcpy.management.Resample(\n",
    "    in_raster=\"Kriging_Temper\",\n",
    "    out_raster=r\"C:\\Users\\conno\\OneDrive\\Documents\\ArcGIS\\Projects\\Lab 3 v2\\Lab 3 v2.gdb\\Kriging_Temper_Resample\",\n",
    "    cell_size=\"0.1 0.1\",\n",
    "    resampling_type=\"NEAREST\"\n",
    ")\n",
    "arcpy.management.Resample(\n",
    "    in_raster=\"Spline_Temper\",\n",
    "    out_raster=r\"C:\\Users\\conno\\OneDrive\\Documents\\ArcGIS\\Projects\\Lab 3 v2\\Lab 3 v2.gdb\\Spline_Temper_Resample\",\n",
    "    cell_size=\"0.1 0.1\",\n",
    "    resampling_type=\"NEAREST\"\n",
    ")\n",
    "print(\"Resampling complete\")"
   ]
  },
  {
   "cell_type": "code",
   "execution_count": 2,
   "metadata": {},
   "outputs": [
    {
     "name": "stdout",
     "output_type": "stream",
     "text": [
      "Raster to Point operations complete for all three\n"
     ]
    }
   ],
   "source": [
    "# Then I will convert them into a point cloud to make it easier for them to be inserted into PostGIS\n",
    "arcpy.conversion.RasterToPoint(\n",
    "    in_raster=\"Spline_Temper_Resample\",\n",
    "    out_point_features=r\"C:\\Users\\conno\\OneDrive\\Documents\\ArcGIS\\Projects\\Lab 3 v2\\Lab 3 v2.gdb\\Spline_Temper_Point\",\n",
    "    raster_field=\"Value\"\n",
    ")\n",
    "arcpy.conversion.RasterToPoint(\n",
    "    in_raster=\"Kriging_Temper_Resample\",\n",
    "    out_point_features=r\"C:\\Users\\conno\\OneDrive\\Documents\\ArcGIS\\Projects\\Lab 3 v2\\Lab 3 v2.gdb\\Kriging_Temper_Point\",\n",
    "    raster_field=\"Value\"\n",
    ")\n",
    "arcpy.conversion.RasterToPoint(\n",
    "    in_raster=\"Idw_Temper_Resample\",\n",
    "    out_point_features=r\"C:\\Users\\conno\\OneDrive\\Documents\\ArcGIS\\Projects\\Lab 3 v2\\Lab 3 v2.gdb\\Idw_Temper_Point\",\n",
    "    raster_field=\"Value\"\n",
    ")\n",
    "print(\"Raster to Point operations complete for all three\")"
   ]
  },
  {
   "cell_type": "code",
   "execution_count": null,
   "metadata": {},
   "outputs": [],
   "source": [
    "# Next step is manually save our interpolated point maps into our PostGIS Database (which I have linked to in advance)\n",
    "# This exports kriging\n",
    "arcpy.conversion.ExportFeatures(\n",
    "    in_features=r\"C:\\Users\\conno\\OneDrive\\Documents\\ArcGIS\\Projects\\Lab 3 v2\\Lab 3 v2.gdb\\Kriging_Temper_Point\",\n",
    "    out_features=r\"C:\\Users\\conno\\OneDrive\\Documents\\ArcGIS\\Projects\\Lab 3 v2\\PostgreSQL-34-lab3(postgres).sde\\lab3.postgres.kriging_temp_point\",\n",
    "    where_clause=\"\",\n",
    "    use_field_alias_as_name=\"NOT_USE_ALIAS\",\n",
    "    field_mapping=r'pointid \"pointid\" true true false 4 Long 0 0,First,#,C:\\Users\\conno\\OneDrive\\Documents\\ArcGIS\\Projects\\Lab 3 v2\\Lab 3 v2.gdb\\Kriging_Temper_Point,pointid,-1,-1;grid_code \"grid_code\" true true false 4 Float 0 0,First,#,C:\\Users\\conno\\OneDrive\\Documents\\ArcGIS\\Projects\\Lab 3 v2\\Lab 3 v2.gdb\\Kriging_Temper_Point,grid_code,-1,-1',\n",
    "    sort_field=None\n",
    ")\n",
    "print(\"Export complete\")"
   ]
  },
  {
   "cell_type": "code",
   "execution_count": null,
   "metadata": {},
   "outputs": [],
   "source": [
    "# Then splining\n",
    "arcpy.conversion.ExportFeatures(\n",
    "    in_features=\"Spline_Temper_Point\",\n",
    "    out_features=r\"C:\\Users\\conno\\OneDrive\\Documents\\ArcGIS\\Projects\\Lab 3 v2\\PostgreSQL-34-lab3(postgres).sde\\lab3.postgres.Spline_Temp_Point\",\n",
    "    where_clause=\"\",\n",
    "    use_field_alias_as_name=\"NOT_USE_ALIAS\",\n",
    "    field_mapping='pointid \"pointid\" true true false 4 Long 0 0,First,#,Spline_Temper_Point,pointid,-1,-1;grid_code \"grid_code\" true true false 4 Float 0 0,First,#,Spline_Temper_Point,grid_code,-1,-1',\n",
    "    sort_field=None\n",
    ")\n",
    "print(\"Export complete\")"
   ]
  },
  {
   "cell_type": "code",
   "execution_count": 3,
   "metadata": {},
   "outputs": [
    {
     "name": "stdout",
     "output_type": "stream",
     "text": [
      "Export complete\n"
     ]
    }
   ],
   "source": [
    "# And then IDW\n",
    "arcpy.conversion.ExportFeatures(\n",
    "    in_features=\"Idw_Temper_Point\",\n",
    "    out_features=r\"C:\\Users\\conno\\OneDrive\\Documents\\ArcGIS\\Projects\\Lab 3 v2\\PostgreSQL-34-lab3(postgres).sde\\lab3.postgres.Idw_Temper_Point\",\n",
    "    where_clause=\"\",\n",
    "    use_field_alias_as_name=\"NOT_USE_ALIAS\",\n",
    "    field_mapping='pointid \"pointid\" true true false 4 Long 0 0,First,#,Idw_Temper_Point,pointid,-1,-1;grid_code \"grid_code\" true true false 4 Float 0 0,First,#,Idw_Temper_Point,grid_code,-1,-1',\n",
    "    sort_field=None\n",
    ")\n",
    "print(\"Export complete\")"
   ]
  },
  {
   "cell_type": "markdown",
   "metadata": {},
   "source": [
    "### Accuracy"
   ]
  },
  {
   "cell_type": "code",
   "execution_count": 7,
   "metadata": {},
   "outputs": [
    {
     "name": "stdout",
     "output_type": "stream",
     "text": [
      "Sampling complete\n"
     ]
    }
   ],
   "source": [
    "# Next part of the assignment is to evaluate the accuracy of our interpolations\n",
    "# To that, we will take the randomly selected points we grabbed from before and use their positions to sample our interpolated data\n",
    "# First with kriging\n",
    "arcpy.sa.Sample(\n",
    "    in_rasters=\"Kriging_Temper\",\n",
    "    in_location_data=\"Random_Selected_Features\",\n",
    "    out_table=r\"C:\\Users\\conno\\OneDrive\\Documents\\ArcGIS\\Projects\\Lab 3 v2\\Lab 3 v2.gdb\\Sample_Kriging_Temp\",\n",
    "    resampling_type=\"NEAREST\",\n",
    "    unique_id_field=\"OBJECTID\",\n",
    "    process_as_multidimensional=\"CURRENT_SLICE\",\n",
    "    acquisition_definition=None,\n",
    "    statistics_type=\"\",\n",
    "    percentile_value=None,\n",
    "    buffer_distance=None,\n",
    "    layout=\"ROW_WISE\",\n",
    "    generate_feature_class=\"TABLE\"\n",
    ")\n",
    "print(\"Sampling complete\")"
   ]
  },
  {
   "cell_type": "code",
   "execution_count": 8,
   "metadata": {},
   "outputs": [
    {
     "name": "stdout",
     "output_type": "stream",
     "text": [
      "Sampling complete\n"
     ]
    }
   ],
   "source": [
    "# Then with splining\n",
    "arcpy.sa.Sample(\n",
    "    in_rasters=\"Spline_Temper\",\n",
    "    in_location_data=\"Random_Selected_Features\",\n",
    "    out_table=r\"C:\\Users\\conno\\OneDrive\\Documents\\ArcGIS\\Projects\\Lab 3 v2\\Lab 3 v2.gdb\\Sample_Spline_Temp\",\n",
    "    resampling_type=\"NEAREST\",\n",
    "    unique_id_field=\"OBJECTID\",\n",
    "    process_as_multidimensional=\"CURRENT_SLICE\",\n",
    "    acquisition_definition=None,\n",
    "    statistics_type=\"\",\n",
    "    percentile_value=None,\n",
    "    buffer_distance=None,\n",
    "    layout=\"ROW_WISE\",\n",
    "    generate_feature_class=\"TABLE\"\n",
    ")\n",
    "print(\"Sampling complete\")"
   ]
  },
  {
   "cell_type": "code",
   "execution_count": 9,
   "metadata": {},
   "outputs": [
    {
     "name": "stdout",
     "output_type": "stream",
     "text": [
      "Sampling complete\n"
     ]
    }
   ],
   "source": [
    "# And then with IDW\n",
    "arcpy.sa.Sample(\n",
    "    in_rasters=\"Idw_Temper\",\n",
    "    in_location_data=\"Random_Selected_Features\",\n",
    "    out_table=r\"C:\\Users\\conno\\OneDrive\\Documents\\ArcGIS\\Projects\\GIS 5572 Lab 3\\GIS 5572 Lab 3.gdb\\Sample_Idw_Temp\",\n",
    "    resampling_type=\"NEAREST\",\n",
    "    unique_id_field=\"OBJECTID\",\n",
    "    process_as_multidimensional=\"CURRENT_SLICE\",\n",
    "    acquisition_definition=None,\n",
    "    statistics_type=\"\",\n",
    "    percentile_value=None,\n",
    "    buffer_distance=None,\n",
    "    layout=\"ROW_WISE\",\n",
    "    generate_feature_class=\"TABLE\"\n",
    ")\n",
    "print(\"Sampling complete\")"
   ]
  },
  {
   "cell_type": "code",
   "execution_count": 10,
   "metadata": {},
   "outputs": [
    {
     "name": "stdout",
     "output_type": "stream",
     "text": [
      "    OBJECTID station_id  air_temper   SHAPE@X   SHAPE@Y\n",
      "0          2      MN002   23.502501 -94.11910  44.90680\n",
      "1         26      MN027   20.497499 -93.37344  48.60179\n",
      "2         30      MN031   26.594999 -94.99542  44.54471\n",
      "3         51      MN052   20.895000 -93.48518  47.84037\n",
      "4         62      MN063   25.750000 -95.05439  46.41334\n",
      "5         63      MN064   26.477501 -94.23284  45.76654\n",
      "6         67      MN068   20.827499 -96.00102  47.76911\n",
      "7         69      MN070   25.072500 -92.48230  43.90234\n",
      "8         72      MN073   27.162500 -94.03397  44.15434\n",
      "9         73      MN074   25.730000 -93.96315  44.36554\n",
      "10       101      MN105   23.332500 -93.70241  47.29679\n",
      "11       111      MN119   21.407499 -95.66613  47.53178\n",
      "12       117      MN127   26.475000 -93.43246  46.11800\n",
      "13       136      MN146   32.177502 -91.30423  43.85790\n",
      "14       147      MN157   25.035000 -94.84316  44.76047\n",
      "15       160      MN170   27.457500 -94.29614  46.52462\n"
     ]
    }
   ],
   "source": [
    "# Next we will create a dataframe based on our randoly selected features from earlier\n",
    "input_feature_class = \"Random_Selected_Features\"\n",
    "\n",
    "# We will first convert feature classes to a NumPy array\n",
    "fields = [\"OID@\", \"station_id\", \"air_temper\", \"SHAPE@X\", \"SHAPE@Y\"]\n",
    "array = arcpy.da.FeatureClassToNumPyArray(input_feature_class, fields)\n",
    "\n",
    "# Then convert the NumPy array to a dataframe\n",
    "df_original = pd.DataFrame(array)\n",
    "\n",
    "# Rename the OID@ field to ObjectID\n",
    "df_original.rename(columns={\"OID@\": \"OBJECTID\"}, inplace=True)\n",
    "\n",
    "# Then we will print the DataFrame to check it\n",
    "print(df_original)\n"
   ]
  },
  {
   "cell_type": "code",
   "execution_count": 11,
   "metadata": {},
   "outputs": [
    {
     "name": "stdout",
     "output_type": "stream",
     "text": [
      "DataFrame 1 (Sample_Idw_Temp):\n",
      "    OBJECTID  Random_Selected_Features         X         Y  Idw_Temper_Band_1\n",
      "0          1                         2 -94.11910  44.90680          23.502819\n",
      "1          2                        26 -93.37344  48.60179          20.497238\n",
      "2          3                        30 -94.99542  44.54471          26.590687\n",
      "3          4                        51 -93.48518  47.84037          20.896429\n",
      "4          5                        62 -95.05439  46.41334          25.750624\n",
      "5          6                        63 -94.23284  45.76654          26.477339\n",
      "6          7                        67 -96.00102  47.76911          20.827522\n",
      "7          8                        69 -92.48230  43.90234          25.072533\n",
      "8          9                        72 -94.03397  44.15434          27.152906\n",
      "9         10                        73 -93.96315  44.36554          25.728815\n",
      "10        11                       101 -93.70241  47.29679          23.332548\n",
      "11        12                       111 -95.66613  47.53178          21.408157\n",
      "12        13                       117 -93.43246  46.11800          26.475019\n",
      "13        14                       136 -91.30423  43.85790          32.176277\n",
      "14        15                       147 -94.84316  44.76047          25.036022\n",
      "15        16                       160 -94.29614  46.52462          27.457432\n",
      "\n",
      "DataFrame 2 (Sample_Kriging_Temp):\n",
      "    OBJECTID  Random_Selected_Features  ...         Y  Kriging_Temper_Band_1\n",
      "0          1                         2  ...  44.90680              23.649122\n",
      "1          2                        26  ...  48.60179              20.227640\n",
      "2          3                        30  ...  44.54471              26.377129\n",
      "3          4                        51  ...  47.84037              21.013624\n",
      "4          5                        62  ...  46.41334              25.813765\n",
      "5          6                        63  ...  45.76654              26.430349\n",
      "6          7                        67  ...  47.76911              20.911600\n",
      "7          8                        69  ...  43.90234              25.222736\n",
      "8          9                        72  ...  44.15434              26.833963\n",
      "9         10                        73  ...  44.36554              25.771324\n",
      "10        11                       101  ...  47.29679              23.401146\n",
      "11        12                       111  ...  47.53178              21.401070\n",
      "12        13                       117  ...  46.11800              26.342958\n",
      "13        14                       136  ...  43.85790              31.662075\n",
      "14        15                       147  ...  44.76047              25.068525\n",
      "15        16                       160  ...  46.52462              27.225508\n",
      "\n",
      "[16 rows x 5 columns]\n",
      "\n",
      "DataFrame 3 (Sample_Spline_Temp):\n",
      "    OBJECTID  Random_Selected_Features  ...         Y  Spline_Temper_Band_1\n",
      "0          1                         2  ...  44.90680             23.486498\n",
      "1          2                        26  ...  48.60179             20.497366\n",
      "2          3                        30  ...  44.54471             26.598101\n",
      "3          4                        51  ...  47.84037             20.925949\n",
      "4          5                        62  ...  46.41334             25.730370\n",
      "5          6                        63  ...  45.76654             26.448162\n",
      "6          7                        67  ...  47.76911             20.825459\n",
      "7          8                        69  ...  43.90234             25.076645\n",
      "8          9                        72  ...  44.15434             27.116482\n",
      "9         10                        73  ...  44.36554             25.746010\n",
      "10        11                       101  ...  47.29679             23.369360\n",
      "11        12                       111  ...  47.53178             21.399340\n",
      "12        13                       117  ...  46.11800             26.402967\n",
      "13        14                       136  ...  43.85790             32.236256\n",
      "14        15                       147  ...  44.76047             25.036312\n",
      "15        16                       160  ...  46.52462             27.460325\n",
      "\n",
      "[16 rows x 5 columns]\n",
      "\n"
     ]
    }
   ],
   "source": [
    "# Now I will add the sampled interpolated data to the same dataframe\n",
    "# That will be done by first making individual dataframes for each method\n",
    "table_paths = [\n",
    "    \"Sample_Idw_Temp\",\n",
    "    \"Sample_Kriging_Temp\",\n",
    "    \"Sample_Spline_Temp\"\n",
    "]\n",
    "\n",
    "dfs = []\n",
    "for table_path in table_paths:\n",
    "    array = arcpy.da.TableToNumPyArray(table_path, \"*\")\n",
    "    df = pd.DataFrame(array)\n",
    "    dfs.append(df)\n",
    "\n",
    "# To check, let's print the dataframes\n",
    "for i, df in enumerate(dfs):\n",
    "    print(f\"DataFrame {i+1} ({table_paths[i]}):\\n{df}\\n\")\n"
   ]
  },
  {
   "cell_type": "code",
   "execution_count": null,
   "metadata": {},
   "outputs": [],
   "source": [
    "# We will the join our dataframes based on Object ID\n",
    "dfs_to_join = [\n",
    "    df_original,  # Temperature_Data DataFrame\n",
    "    dfs[0],  # Sample_Idw_Temp DataFrame\n",
    "    dfs[1],  # Sample_Kriging_Temp DataFrame\n",
    "    dfs[2]   # Sample_Spline_Temp DataFrame\n",
    "]\n",
    "\n",
    "# Here we will define the suffixes for the joined columns\n",
    "suffixes = ['_original', '_idw', '_kriging', '_spline']\n",
    "\n",
    "# Then we perform the join for each dataframe\n",
    "for i, df_to_join in enumerate(dfs_to_join[1:], start=1):\n",
    "    df_original = df_original.merge(df_to_join, how='left', left_on='OBJECTID', right_on='OBJECTID', suffixes=('', suffixes[i]))\n",
    "\n",
    "# Let's check\n",
    "print(df_original)\n"
   ]
  },
  {
   "cell_type": "code",
   "execution_count": null,
   "metadata": {},
   "outputs": [],
   "source": [
    "# We will then do some arthimetic between columns to determine the difference between each\n",
    "df_original['Idw_Temper_Band_1_difference'] = df_original['air_temper'] - df_original['Idw_Temper_Band_1']\n",
    "df_original['Spline_Temper_Band_1_difference'] = df_original['air_temper'] - df_original['Spline_Temper_Band_1']\n",
    "df_original['Kriging_Temper_Band_1_difference'] = df_original['air_temper'] - df_original['Kriging_Temper_Band_1']\n",
    "\n",
    "# Print the DataFrame with the new \n",
    "df_original\n"
   ]
  },
  {
   "cell_type": "code",
   "execution_count": 86,
   "metadata": {},
   "outputs": [
    {
     "name": "stdout",
     "output_type": "stream",
     "text": [
      "    Method      Mean      RMSE\n",
      "0      IDW  3.005262  3.005262\n",
      "1   Spline  3.005135  3.005135\n",
      "2  Kriging  3.274860  3.274860\n"
     ]
    }
   ],
   "source": [
    "# We will then calculate the mean difference for each method\n",
    "idw_mean = df_original['Idw_Temper_Band_1_difference'].mean()\n",
    "spline_mean = df_original['Spline_Temper_Band_1_difference'].mean()\n",
    "kriging_mean = df_original['Kriging_Temper_Band_1_difference'].mean()\n",
    "\n",
    "# Then use that to calculate RMSE for each method\n",
    "idw_rmse = np.sqrt(np.mean(df_original['Idw_Temper_Band_1_difference']**2))\n",
    "spline_rmse = np.sqrt(np.mean(df_original['Spline_Temper_Band_1_difference']**2))\n",
    "kriging_rmse = np.sqrt(np.mean(df_original['Kriging_Temper_Band_1_difference']**2))\n",
    "\n",
    "# Then we create a dictionary to hold the results\n",
    "accuracy_results = {\n",
    "    'Method': ['IDW', 'Spline', 'Kriging'],\n",
    "    'Mean': [idw_mean, spline_mean, kriging_mean],\n",
    "    'RMSE': [idw_rmse, spline_rmse, kriging_rmse]\n",
    "}\n",
    "\n",
    "# Then we can create DataFrame from the dictionary\n",
    "accuracy_df = pd.DataFrame(accuracy_results)\n",
    "print(accuracy_df)\n"
   ]
  },
  {
   "cell_type": "code",
   "execution_count": 89,
   "metadata": {},
   "outputs": [
    {
     "name": "stdout",
     "output_type": "stream",
     "text": [
      "Accuracy DataFrame saved to: C:\\Users\\conno\\OneDrive\\Documents\\ArcGIS\\Projects\\Lab 3 v2\\Lab 3 v2.gdb\\accuracy_temperature.csv\n"
     ]
    }
   ],
   "source": [
    "# We now need to save the table\n",
    "# First we will convert it into a CSV\n",
    "output_path = r\"C:\\Users\\conno\\OneDrive\\Documents\\ArcGIS\\Projects\\Lab 3 v2\\Lab 3 v2.gdb\\accuracy_temperature.csv\"\n",
    "accuracy_df.to_csv(output_path, index=False)\n",
    "\n",
    "print(\"Accuracy DataFrame saved to:\", output_path)"
   ]
  },
  {
   "cell_type": "code",
   "execution_count": null,
   "metadata": {},
   "outputs": [],
   "source": [
    "# Then we will use the database connection to save it.\n",
    "sde_connection = r'C:\\Users\\conno\\OneDrive\\Documents\\ArcGIS\\Projects\\Lab 3 v2\\PostgreSQL-34-lab3(postgres).sde'\n",
    "output_table = \"accuracy_temperature\"\n",
    "csv_file = r\"C:\\Users\\conno\\OneDrive\\Documents\\ArcGIS\\Projects\\Lab 3 v2\\accuracy_temperature.csv\"\n",
    "arcpy.TableToTable_conversion(csv_file, sde_connection, output_table)\n",
    "\n",
    "print(f\"Table '{output_table}' saved to SDE connection '{sde_connection}'.\")"
   ]
  },
  {
   "cell_type": "code",
   "execution_count": 98,
   "metadata": {},
   "outputs": [
    {
     "name": "stdout",
     "output_type": "stream",
     "text": [
      "Point feature class created successfully.\n"
     ]
    }
   ],
   "source": [
    "# Now we will convert the sampling differences into a point feature\n",
    "# Let us start with IDW\n",
    "data_array = df_original[['SHAPE@X', 'SHAPE@Y', 'Idw_Temper_Band_1_difference']].to_numpy()\n",
    "spatial_reference = arcpy.SpatialReference(4326)  # WGS 1984\n",
    "feature_class_name = \"Idw_Difference_Point\"\n",
    "arcpy.management.CreateFeatureclass(arcpy.env.workspace, feature_class_name, \"POINT\", spatial_reference=spatial_reference)\n",
    "arcpy.management.AddField(feature_class_name, \"Idw_Temper_Band_1_difference\", \"DOUBLE\")\n",
    "with arcpy.da.InsertCursor(feature_class_name, ['SHAPE@X', 'SHAPE@Y', 'Idw_Temper_Band_1_difference']) as cursor:\n",
    "    for row in data_array:\n",
    "        cursor.insertRow(row)\n",
    "\n",
    "print(\"Point feature class created successfully.\")"
   ]
  },
  {
   "cell_type": "code",
   "execution_count": 99,
   "metadata": {},
   "outputs": [
    {
     "name": "stdout",
     "output_type": "stream",
     "text": [
      "Point feature class created successfully.\n"
     ]
    }
   ],
   "source": [
    "# Then Kriging\n",
    "data_array = df_original[['SHAPE@X', 'SHAPE@Y', 'Kriging_Temper_Band_1_difference']].to_numpy()\n",
    "spatial_reference = arcpy.SpatialReference(4326)\n",
    "feature_class_name = \"Kriging_Difference_Point\"\n",
    "arcpy.management.CreateFeatureclass(arcpy.env.workspace, feature_class_name, \"POINT\", spatial_reference=spatial_reference)\n",
    "arcpy.management.AddField(feature_class_name, \"Kriging_Temper_Band_1_difference\", \"DOUBLE\")\n",
    "with arcpy.da.InsertCursor(feature_class_name, ['SHAPE@X', 'SHAPE@Y', 'Kriging_Temper_Band_1_difference']) as cursor:\n",
    "    for row in data_array:\n",
    "        cursor.insertRow(row)\n",
    "\n",
    "print(\"Point feature class created successfully.\")"
   ]
  },
  {
   "cell_type": "code",
   "execution_count": 100,
   "metadata": {},
   "outputs": [
    {
     "name": "stdout",
     "output_type": "stream",
     "text": [
      "Point feature class created successfully.\n"
     ]
    }
   ],
   "source": [
    "# And then splining\n",
    "data_array = df_original[['SHAPE@X', 'SHAPE@Y', 'Spline_Temper_Band_1_difference']].to_numpy()\n",
    "spatial_reference = arcpy.SpatialReference(4326)  # WGS 1984\n",
    "feature_class_name = \"Spline_Difference_Point\"\n",
    "arcpy.management.CreateFeatureclass(arcpy.env.workspace, feature_class_name, \"POINT\", spatial_reference=spatial_reference)\n",
    "arcpy.management.AddField(feature_class_name, \"Spline_Temper_Band_1_difference\", \"DOUBLE\")\n",
    "with arcpy.da.InsertCursor(feature_class_name, ['SHAPE@X', 'SHAPE@Y', 'Spline_Temper_Band_1_difference']) as cursor:\n",
    "    for row in data_array:\n",
    "        cursor.insertRow(row)\n",
    "\n",
    "print(\"Point feature class created successfully.\")"
   ]
  },
  {
   "cell_type": "code",
   "execution_count": 2,
   "metadata": {},
   "outputs": [
    {
     "data": {
      "text/html": [
       "<div class='gpresult'><h2>Messages</h2><div id='messages' data-messages='[\"Start Time: Friday, April 12, 2024 7:32:08 PM\",\"Succeeded at Friday, April 12, 2024 7:33:12 PM (Elapsed Time: 1 minutes 4 seconds)\"]' data-show='true'><div id = 'default' /></div></div>"
      ],
      "text/plain": [
       "<Result 'C:\\\\Users\\\\conno\\\\OneDrive\\\\Documents\\\\ArcGIS\\\\Projects\\\\Lab 3 v2\\\\PostgreSQL-34-lab3(postgres).sde\\\\lab3.postgres.Idw_Difference_Point'>"
      ]
     },
     "execution_count": 2,
     "metadata": {},
     "output_type": "execute_result"
    }
   ],
   "source": [
    "#We will save IDW difference point layer to our PostGIS database\n",
    "arcpy.conversion.ExportFeatures('Idw_Difference_Point',r'C:\\Users\\conno\\OneDrive\\Documents\\ArcGIS\\Projects\\Lab 3 v2\\PostgreSQL-34-lab3(postgres).sde\\lab3.postgres.Idw_Difference_Point')\n"
   ]
  }
 ],
 "metadata": {
  "kernelspec": {
   "display_name": "ArcGISPro",
   "language": "Python",
   "name": "python3"
  },
  "language_info": {
   "file_extension": ".py",
   "name": "python",
   "version": "3"
  }
 },
 "nbformat": 4,
 "nbformat_minor": 2
}
